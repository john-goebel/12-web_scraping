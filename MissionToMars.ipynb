{
 "cells": [
  {
   "cell_type": "code",
   "execution_count": 13,
   "metadata": {},
   "outputs": [],
   "source": [
    "import pandas as pd\n",
    "import numpy as np\n",
    "from splinter import Browser\n",
    "from bs4 import BeautifulSoup\n"
   ]
  },
  {
   "cell_type": "code",
   "execution_count": 2,
   "metadata": {},
   "outputs": [],
   "source": [
    "executable_path = {'executable_path':'chromedriver.exe'}\n",
    "browser = Browser('chrome', **executable_path, headless=False)\n",
    "url = 'https://mars.nasa.gov/news/'\n",
    "browser.visit(url)\n",
    "html = browser.html\n",
    "soup = BeautifulSoup(html, 'html.parser')"
   ]
  },
  {
   "cell_type": "code",
   "execution_count": 12,
   "metadata": {},
   "outputs": [
    {
     "name": "stdout",
     "output_type": "stream",
     "text": [
      "50\n",
      "40\n"
     ]
    }
   ],
   "source": [
    "nasa_news_titles = soup.find_all('div', class_='content_title')\n",
    "nasa_titles_text = []\n",
    "\n",
    "for title in nasa_news_titles:\n",
    "    nasa_titles_text.append(title.text)\n",
    "\n",
    "nasa_news_p = soup.find_all('div', class_='article_teaser_body')\n",
    "nasa_p_text = []\n",
    "\n",
    "for p in nasa_news_p:\n",
    "    nasa_p_text.append(p.text)\n",
    "\n",
    "print(len(nasa_titles_text))\n",
    "print(len(nasa_p_text))"
   ]
  },
  {
   "cell_type": "code",
   "execution_count": 60,
   "metadata": {},
   "outputs": [
    {
     "data": {
      "text/plain": [
       "'/spaceimages/images/wallpaper/PIA23369-640x350.jpg'"
      ]
     },
     "execution_count": 60,
     "metadata": {},
     "output_type": "execute_result"
    }
   ],
   "source": [
    "jpl_url = 'https://www.jpl.nasa.gov/spaceimages/?search=&category=Mars'\n",
    "browser.visit(jpl_url)\n",
    "# browser.click_link_by_partial_text('FULL IMAGE')\n",
    "jpl_html = browser.html\n",
    "jpl_soup = BeautifulSoup(jpl_html, 'html.parser')\n",
    "jpl_img = jpl_soup.find_all('img')[3]['src']\n",
    "jpl_img"
   ]
  },
  {
   "cell_type": "code",
   "execution_count": 61,
   "metadata": {},
   "outputs": [
    {
     "data": {
      "text/plain": [
       "'Mars. Freakin. Helicopter.  @NASAJPL \\n(It’s sideways on the gold colored table, 2 sets of black blades parallel to each other to the left, two feet sticking up and out to the right, main body is a silver rectangular box in between them, first picture has a chair for scale)pic.twitter.com/CQgyggaNd7'"
      ]
     },
     "execution_count": 61,
     "metadata": {},
     "output_type": "execute_result"
    }
   ],
   "source": [
    "mars_weather_url = 'https://twitter.com/marswxreport?lang=en'\n",
    "browser.visit(mars_weather_url)\n",
    "mars_weather_html = browser.html\n",
    "mars_weather_soup = BeautifulSoup(mars_weather_html, 'html.parser')\n",
    "mars_weather = mars_weather_soup.find_all('p', class_='TweetTextSize TweetTextSize--normal js-tweet-text tweet-text')[0].text.strip()\n",
    "mars_weather"
   ]
  },
  {
   "cell_type": "code",
   "execution_count": 72,
   "metadata": {},
   "outputs": [
    {
     "data": {
      "text/plain": [
       "[  Mars - Earth Comparison             Mars            Earth\n",
       " 0               Diameter:         6,779 km        12,742 km\n",
       " 1                   Mass:  6.39 × 10^23 kg  5.97 × 10^24 kg\n",
       " 2                  Moons:                2                1\n",
       " 3      Distance from Sun:   227,943,824 km   149,598,262 km\n",
       " 4         Length of Year:   687 Earth days      365.24 days\n",
       " 5            Temperature:    -153 to 20 °C      -88 to 58°C,\n",
       "                       0                              1\n",
       " 0  Equatorial Diameter:                       6,792 km\n",
       " 1       Polar Diameter:                       6,752 km\n",
       " 2                 Mass:  6.39 × 10^23 kg (0.11 Earths)\n",
       " 3                Moons:            2 (Phobos & Deimos)\n",
       " 4       Orbit Distance:       227,943,824 km (1.38 AU)\n",
       " 5         Orbit Period:           687 days (1.9 years)\n",
       " 6  Surface Temperature:                   -87 to -5 °C\n",
       " 7         First Record:              2nd millennium BC\n",
       " 8          Recorded By:           Egyptian astronomers]"
      ]
     },
     "execution_count": 72,
     "metadata": {},
     "output_type": "execute_result"
    }
   ],
   "source": [
    "# mars_facts_url = 'https://space-facts.com/mars/'\n",
    "tblMars_facts = pd.read_html('https://space-facts.com/mars/')\n",
    "tblMars_facts\n",
    "\n",
    "# mars_facts_df1 = tblMars_facts[0]\n",
    "# mars_facts_df2 = tblMars_facts[1]"
   ]
  },
  {
   "cell_type": "code",
   "execution_count": 85,
   "metadata": {},
   "outputs": [],
   "source": [
    "mars_hemi_url = 'https://astrogeology.usgs.gov/search/results?q=hemisphere+enhanced&k1=target&v1=Mars'\n",
    "browser.visit(url)\n",
    "\n",
    "hemi_names = ['cerberus', 'schiaparelli', 'syrtis_major', 'valles_marineris']\n",
    "hemispheres = ['Cerberus Hemisphere Enhanced', 'Schiaparelli Hemisphere Enhanced', 'Syrtis Major Hemisphere Enhanced', 'Valles Marineris Hemisphere Enhanced']\n",
    "hemi_urls = []\n",
    "hemi_imgs = []\n",
    "counter = 0\n",
    "\n",
    "for hemi in hemispheres:\n",
    "    browser.visit(mars_hemi_url)\n",
    "    browser.click_link_by_partial_text(hemi)\n",
    "    hemi_html = browser.html\n",
    "    hemi_soup = BeautifulSoup(hemi_html, 'html.parser')\n",
    "    \n",
    "    hemi_imgs.append(hemi_soup.find_all('img', class_='wide-image')[0]['src'])\n",
    "    hemi_urls.append('https://astrogeology.usgs.gov/search/map/Mars/Viking/'+hemi_names[counter]+\"_enhanced\")\n",
    "    counter = counter + 1"
   ]
  },
  {
   "cell_type": "code",
   "execution_count": 77,
   "metadata": {},
   "outputs": [],
   "source": [
    "print(hemi_urls)\n",
    "print(hemi_imgs)"
   ]
  },
  {
   "cell_type": "code",
   "execution_count": 86,
   "metadata": {},
   "outputs": [
    {
     "data": {
      "text/plain": [
       "{'urls': ['https://astrogeology.usgs.gov/search/map/Mars/Viking/cerberus_enhanced',\n",
       "  'https://astrogeology.usgs.gov/search/map/Mars/Viking/schiaparelli_enhanced',\n",
       "  'https://astrogeology.usgs.gov/search/map/Mars/Viking/syrtis_major_enhanced',\n",
       "  'https://astrogeology.usgs.gov/search/map/Mars/Viking/valles_marineris_enhanced'],\n",
       " 'imgs': ['/cache/images/cfa62af2557222a02478f1fcd781d445_cerberus_enhanced.tif_full.jpg',\n",
       "  '/cache/images/3cdd1cbf5e0813bba925c9030d13b62e_schiaparelli_enhanced.tif_full.jpg',\n",
       "  '/cache/images/ae209b4e408bb6c3e67b6af38168cf28_syrtis_major_enhanced.tif_full.jpg',\n",
       "  '/cache/images/7cf2da4bf549ed01c17f206327be4db7_valles_marineris_enhanced.tif_full.jpg']}"
      ]
     },
     "execution_count": 86,
     "metadata": {},
     "output_type": "execute_result"
    }
   ],
   "source": [
    "mars_hemisphers = {\n",
    "    \"urls\": hemi_urls,\n",
    "    \"imgs\": hemi_imgs\n",
    "}\n",
    "mars_hemisphers"
   ]
  },
  {
   "cell_type": "code",
   "execution_count": 91,
   "metadata": {},
   "outputs": [
    {
     "data": {
      "text/plain": [
       "[{'title': 'cerberus',\n",
       "  'img_url': '/cache/images/cfa62af2557222a02478f1fcd781d445_cerberus_enhanced.tif_full.jpg'},\n",
       " {'title': 'schiaparelli',\n",
       "  'img_url': '/cache/images/3cdd1cbf5e0813bba925c9030d13b62e_schiaparelli_enhanced.tif_full.jpg'},\n",
       " {'title': 'syrtis_major',\n",
       "  'img_url': '/cache/images/ae209b4e408bb6c3e67b6af38168cf28_syrtis_major_enhanced.tif_full.jpg'},\n",
       " {'title': 'valles_marineris',\n",
       "  'img_url': '/cache/images/7cf2da4bf549ed01c17f206327be4db7_valles_marineris_enhanced.tif_full.jpg'}]"
      ]
     },
     "execution_count": 91,
     "metadata": {},
     "output_type": "execute_result"
    }
   ],
   "source": [
    "mongo_list = []\n",
    "mongo_dict = {}\n",
    "\n",
    "for hemi in np.arange(0, 4):\n",
    "    mongo_dict = {\n",
    "        'title': hemi_names[hemi],\n",
    "        'img_url': hemi_imgs[hemi]\n",
    "    }\n",
    "    mongo_list.append(mongo_dict)\n",
    "    \n",
    "mongo_list"
   ]
  },
  {
   "cell_type": "code",
   "execution_count": null,
   "metadata": {},
   "outputs": [],
   "source": []
  }
 ],
 "metadata": {
  "kernelspec": {
   "display_name": "Python 3",
   "language": "python",
   "name": "python3"
  },
  "language_info": {
   "codemirror_mode": {
    "name": "ipython",
    "version": 3
   },
   "file_extension": ".py",
   "mimetype": "text/x-python",
   "name": "python",
   "nbconvert_exporter": "python",
   "pygments_lexer": "ipython3",
   "version": "3.7.3"
  }
 },
 "nbformat": 4,
 "nbformat_minor": 2
}
